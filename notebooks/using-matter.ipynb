{
 "cells": [
  {
   "cell_type": "code",
   "execution_count": 1,
   "metadata": {},
   "outputs": [
    {
     "name": "stdout",
     "output_type": "stream",
     "text": [
      "/Users/nngo/rebuildingcode/rbc\n"
     ]
    }
   ],
   "source": [
    "cd .."
   ]
  },
  {
   "cell_type": "markdown",
   "metadata": {},
   "source": []
  },
  {
   "cell_type": "code",
   "execution_count": 2,
   "metadata": {},
   "outputs": [],
   "source": [
    "import matplotlib.pyplot as plt\n",
    "\n",
    "from rbc.point import Point\n",
    "from shapely.geometry import Polygon"
   ]
  },
  {
   "cell_type": "code",
   "execution_count": 3,
   "metadata": {},
   "outputs": [],
   "source": [
    "b1 = Point(0, 0, 0)\n",
    "b2 = Point(0, 10, 0)\n",
    "b3 = Point(10, 10, 0)\n",
    "b4 = Point(10, 0, 0)\n",
    "\n",
    "b_pts = [b1, b2, b3, b4]\n",
    "\n",
    "b_xy = [(p.x, p.y) for p in b_pts]\n",
    "\n",
    "boundary = Polygon(b_xy)"
   ]
  },
  {
   "cell_type": "code",
   "execution_count": 4,
   "metadata": {},
   "outputs": [
    {
     "data": {
      "text/plain": [
       "10.0"
      ]
     },
     "execution_count": 4,
     "metadata": {},
     "output_type": "execute_result"
    }
   ],
   "source": [
    "diff = b3.distance(b2)\n",
    "diff"
   ]
  },
  {
   "cell_type": "code",
   "execution_count": 5,
   "metadata": {},
   "outputs": [
    {
     "data": {
      "image/svg+xml": [
       "<svg xmlns=\"http://www.w3.org/2000/svg\" xmlns:xlink=\"http://www.w3.org/1999/xlink\" width=\"100.0\" height=\"100.0\" viewBox=\"-0.4 -0.4 10.8 10.8\" preserveAspectRatio=\"xMinYMin meet\"><g transform=\"matrix(1,0,0,-1,0,10.0)\"><path fill-rule=\"evenodd\" fill=\"#66cc99\" stroke=\"#555555\" stroke-width=\"0.21600000000000003\" opacity=\"0.6\" d=\"M 0.0,0.0 L 0.0,10.0 L 10.0,10.0 L 10.0,0.0 L 0.0,0.0 z\" /></g></svg>"
      ],
      "text/plain": [
       "<shapely.geometry.polygon.Polygon at 0x7fd058e666a0>"
      ]
     },
     "execution_count": 5,
     "metadata": {},
     "output_type": "execute_result"
    }
   ],
   "source": [
    "boundary"
   ]
  },
  {
   "cell_type": "code",
   "execution_count": 22,
   "metadata": {},
   "outputs": [],
   "source": [
    "# boundary can be switched with FloorPlan\n",
    "\n",
    "class Matter:\n",
    "    def __init__(self, points, boundary, align_w_wall=True):\n",
    "        self.boundary = boundary\n",
    "        self.polygon = self.create_polygon(points)\n",
    "        # place polygon in boundary\n",
    "        \n",
    "    def create_polygon(self, points):\n",
    "        poly = Polygon(shell=[(pt.x, pt.y) for pt in points])\n",
    "        \n",
    "        # check if poly is smaller than boundary\n",
    "        if self.boundary_larger_than(poly):\n",
    "            offset = (self.boundary.centroid.x - poly.centroid.x, self.boundary.centroid.y - poly.centroid.y)\n",
    "\n",
    "            points_at_boundary_centroid = []\n",
    "            for pt in points:\n",
    "                mod_pt = Point(pt.x + offset[0], pt.y + offset[1], pt.z)\n",
    "                points_at_boundary_centroid.append(mod_pt)\n",
    "\n",
    "            return Polygon(shell=[(pt.x, pt.y) for pt in points_at_boundary_centroid])\n",
    "        else:\n",
    "            raise ValueError\n",
    "    \n",
    "    def boundary_larger_than(self, poly):\n",
    "        return poly.envelope.area < self.boundary.area\n",
    "        \n",
    "#     def check_boundary(self, boundary, align_w_wall):\n",
    "#         poly_centroid = self.polygon.centroid\n",
    "#         bound_centroid = boundary.centroid\n",
    "\n",
    "    def plot(self, figsize=(12, 12)):\n",
    "        \"\"\"Plots a list of rooms\"\"\"\n",
    "        polys = [self.boundary, self.polygon]\n",
    "        labels = [\"\", \"thing\"]\n",
    "        \n",
    "        fig, ax = plt.subplots(figsize=figsize)\n",
    "        for idx, poly in enumerate(polys):\n",
    "            x, y = poly.exterior.xy\n",
    "            ax.plot(x, y)\n",
    "            ax.text(poly.centroid.x, poly.centroid.y, s=labels[idx],\n",
    "                horizontalalignment='center', verticalalignment='center')\n",
    "        plt.show()"
   ]
  },
  {
   "cell_type": "code",
   "execution_count": 23,
   "metadata": {},
   "outputs": [],
   "source": [
    "t1 = Point(0, 0, 0)\n",
    "t2 = Point(0, 5, 0)\n",
    "# t3 = Point(5, 5, 0)\n",
    "t4 = Point(5, 0, 0)\n",
    "\n",
    "t_pts = [t1, t2, t4]\n",
    "\n",
    "# t_xy = [(p.x, p.y) for p in t_pts]\n",
    "\n",
    "thing = Matter(t_pts, boundary=boundary)"
   ]
  },
  {
   "cell_type": "code",
   "execution_count": 24,
   "metadata": {},
   "outputs": [
    {
     "data": {
      "image/svg+xml": [
       "<svg xmlns=\"http://www.w3.org/2000/svg\" xmlns:xlink=\"http://www.w3.org/1999/xlink\" width=\"100.0\" height=\"100.0\" viewBox=\"3.1333333333333333 3.1333333333333333 5.4 5.4\" preserveAspectRatio=\"xMinYMin meet\"><g transform=\"matrix(1,0,0,-1,0,11.666666666666666)\"><path fill-rule=\"evenodd\" fill=\"#66cc99\" stroke=\"#555555\" stroke-width=\"0.10800000000000001\" opacity=\"0.6\" d=\"M 3.3333333333333335,3.3333333333333335 L 3.3333333333333335,8.333333333333334 L 8.333333333333334,3.3333333333333335 L 3.3333333333333335,3.3333333333333335 z\" /></g></svg>"
      ],
      "text/plain": [
       "<shapely.geometry.polygon.Polygon at 0x7fcff8004390>"
      ]
     },
     "execution_count": 24,
     "metadata": {},
     "output_type": "execute_result"
    }
   ],
   "source": [
    "thing.polygon"
   ]
  },
  {
   "cell_type": "code",
   "execution_count": 25,
   "metadata": {
    "scrolled": false
   },
   "outputs": [
    {
     "data": {
      "image/png": "[encoded data removed]",
      "text/plain": [
       "<Figure size 864x864 with 1 Axes>"
      ]
     },
     "metadata": {
      "needs_background": "light"
     },
     "output_type": "display_data"
    }
   ],
   "source": [
    "thing.plot()"
   ]
  },
  {
   "cell_type": "code",
   "execution_count": 10,
   "metadata": {},
   "outputs": [
    {
     "data": {
      "text/plain": [
       "True"
      ]
     },
     "execution_count": 10,
     "metadata": {},
     "output_type": "execute_result"
    }
   ],
   "source": [
    "thing.boundary_larger_than(thing.polygon)"
   ]
  },
  {
   "cell_type": "code",
   "execution_count": 11,
   "metadata": {},
   "outputs": [
    {
     "data": {
      "image/svg+xml": [
       "<svg xmlns=\"http://www.w3.org/2000/svg\" xmlns:xlink=\"http://www.w3.org/1999/xlink\" width=\"100.0\" height=\"100.0\" viewBox=\"3.1333333333333333 3.1333333333333333 5.4 5.4\" preserveAspectRatio=\"xMinYMin meet\"><g transform=\"matrix(1,0,0,-1,0,11.666666666666666)\"><path fill-rule=\"evenodd\" fill=\"#66cc99\" stroke=\"#555555\" stroke-width=\"0.10800000000000001\" opacity=\"0.6\" d=\"M 3.3333333333333335,3.3333333333333335 L 8.333333333333334,3.3333333333333335 L 8.333333333333334,8.333333333333334 L 3.3333333333333335,8.333333333333334 L 3.3333333333333335,3.3333333333333335 z\" /></g></svg>"
      ],
      "text/plain": [
       "<shapely.geometry.polygon.Polygon at 0x7fd0684853c8>"
      ]
     },
     "execution_count": 11,
     "metadata": {},
     "output_type": "execute_result"
    }
   ],
   "source": [
    "thing.polygon.envelope"
   ]
  },
  {
   "cell_type": "code",
   "execution_count": 12,
   "metadata": {},
   "outputs": [],
   "source": [
    "from shapely.affinity import rotate"
   ]
  },
  {
   "cell_type": "code",
   "execution_count": 13,
   "metadata": {},
   "outputs": [],
   "source": [
    "thing.polygon = rotate(thing.polygon, 30)"
   ]
  },
  {
   "cell_type": "code",
   "execution_count": 14,
   "metadata": {},
   "outputs": [
    {
     "data": {
      "text/plain": [
       "{(2.418269823872237, 6.748396842794431),\n",
       " (4.918269823872237, 2.418269823872236),\n",
       " (9.24839684279443, 4.918269823872237)}"
      ]
     },
     "execution_count": 14,
     "metadata": {},
     "output_type": "execute_result"
    }
   ],
   "source": [
    "set(thing.polygon.exterior.coords)"
   ]
  },
  {
   "cell_type": "code",
   "execution_count": 15,
   "metadata": {},
   "outputs": [
    {
     "data": {
      "text/plain": [
       "17.071067811865476"
      ]
     },
     "execution_count": 15,
     "metadata": {},
     "output_type": "execute_result"
    }
   ],
   "source": [
    "thing.polygon.length"
   ]
  },
  {
   "cell_type": "code",
   "execution_count": 16,
   "metadata": {},
   "outputs": [],
   "source": [
    "dists = []\n",
    "for idx, vert in enumerate(list(thing.polygon.exterior.coords)):\n",
    "\n",
    "    if idx == 0:\n",
    "        continue\n",
    "    else:\n",
    "        dists.append(Point(thing.polygon.exterior.coords[idx]).distance(\n",
    "            Point(thing.polygon.exterior.coords[idx-1])\n",
    "        ))\n",
    "    "
   ]
  },
  {
   "cell_type": "code",
   "execution_count": 17,
   "metadata": {},
   "outputs": [
    {
     "data": {
      "text/plain": [
       "[5.000000000000001, 7.0710678118654755, 5.0]"
      ]
     },
     "execution_count": 17,
     "metadata": {},
     "output_type": "execute_result"
    }
   ],
   "source": [
    "dists"
   ]
  },
  {
   "cell_type": "code",
   "execution_count": 18,
   "metadata": {},
   "outputs": [
    {
     "data": {
      "image/svg+xml": [
       "<svg xmlns=\"http://www.w3.org/2000/svg\" xmlns:xlink=\"http://www.w3.org/1999/xlink\" width=\"100.0\" height=\"100.0\" viewBox=\"2.1450647431153493 2.1450647431153484 7.376537180435968 4.87653718043597\" preserveAspectRatio=\"xMinYMin meet\"><g transform=\"matrix(1,0,0,-1,0,9.166666666666668)\"><path fill-rule=\"evenodd\" fill=\"#66cc99\" stroke=\"#555555\" stroke-width=\"0.14753074360871937\" opacity=\"0.6\" d=\"M 4.918269823872237,2.418269823872236 L 2.418269823872237,6.748396842794431 L 9.24839684279443,4.918269823872237 L 4.918269823872237,2.418269823872236 z\" /></g></svg>"
      ],
      "text/plain": [
       "<shapely.geometry.polygon.Polygon at 0x7fd0387316d8>"
      ]
     },
     "execution_count": 18,
     "metadata": {},
     "output_type": "execute_result"
    }
   ],
   "source": [
    "thing.polygon"
   ]
  },
  {
   "cell_type": "code",
   "execution_count": 19,
   "metadata": {
    "scrolled": true
   },
   "outputs": [
    {
     "data": {
      "image/svg+xml": [
       "<svg xmlns=\"http://www.w3.org/2000/svg\" xmlns:xlink=\"http://www.w3.org/1999/xlink\" width=\"100.0\" height=\"100.0\" viewBox=\"2.1450647431153493 2.1450647431153484 7.376537180435968 4.87653718043597\" preserveAspectRatio=\"xMinYMin meet\"><g transform=\"matrix(1,0,0,-1,0,9.166666666666668)\"><path fill-rule=\"evenodd\" fill=\"#66cc99\" stroke=\"#555555\" stroke-width=\"0.14753074360871937\" opacity=\"0.6\" d=\"M 2.418269823872237,2.418269823872236 L 9.24839684279443,2.418269823872236 L 9.24839684279443,6.748396842794431 L 2.418269823872237,6.748396842794431 L 2.418269823872237,2.418269823872236 z\" /></g></svg>"
      ],
      "text/plain": [
       "<shapely.geometry.polygon.Polygon at 0x7fd0387542b0>"
      ]
     },
     "execution_count": 19,
     "metadata": {},
     "output_type": "execute_result"
    }
   ],
   "source": [
    "thing.polygon.envelope"
   ]
  },
  {
   "cell_type": "code",
   "execution_count": 20,
   "metadata": {},
   "outputs": [
    {
     "data": {
      "image/svg+xml": [
       "<svg xmlns=\"http://www.w3.org/2000/svg\" xmlns:xlink=\"http://www.w3.org/1999/xlink\" width=\"100.0\" height=\"100.0\" viewBox=\"2.1450647431153493 2.1450647431153484 7.376537180435968 4.87653718043597\" preserveAspectRatio=\"xMinYMin meet\"><g transform=\"matrix(1,0,0,-1,0,9.166666666666668)\"><path fill-rule=\"evenodd\" fill=\"#66cc99\" stroke=\"#555555\" stroke-width=\"0.14753074360871937\" opacity=\"0.6\" d=\"M 4.918269823872237,2.418269823872236 L 2.418269823872237,6.748396842794431 L 9.24839684279443,4.918269823872237 L 4.918269823872237,2.418269823872236 z\" /></g></svg>"
      ],
      "text/plain": [
       "<shapely.geometry.polygon.Polygon at 0x7fd0387545f8>"
      ]
     },
     "execution_count": 20,
     "metadata": {},
     "output_type": "execute_result"
    }
   ],
   "source": [
    "thing.polygon.convex_hull"
   ]
  },
  {
   "cell_type": "code",
   "execution_count": 21,
   "metadata": {},
   "outputs": [
    {
     "data": {
      "image/svg+xml": [
       "<svg xmlns=\"http://www.w3.org/2000/svg\" xmlns:xlink=\"http://www.w3.org/1999/xlink\" width=\"100.0\" height=\"100.0\" viewBox=\"2.145064743115349 2.1450647431153484 7.376537180435969 7.376537180435969\" preserveAspectRatio=\"xMinYMin meet\"><g transform=\"matrix(1,0,0,-1,0,11.666666666666666)\"><path fill-rule=\"evenodd\" fill=\"#66cc99\" stroke=\"#555555\" stroke-width=\"0.14753074360871937\" opacity=\"0.6\" d=\"M 9.24839684279443,4.918269823872235 L 6.748396842794429,9.24839684279443 L 2.4182698238722367,6.748396842794431 L 4.918269823872236,2.418269823872236 L 9.24839684279443,4.918269823872235 z\" /></g></svg>"
      ],
      "text/plain": [
       "<shapely.geometry.polygon.Polygon at 0x7fd038754cf8>"
      ]
     },
     "execution_count": 21,
     "metadata": {},
     "output_type": "execute_result"
    }
   ],
   "source": [
    "thing.polygon.minimum_rotated_rectangle"
   ]
  },
  {
   "cell_type": "code",
   "execution_count": null,
   "metadata": {},
   "outputs": [],
   "source": []
  }
 ],
 "metadata": {
  "kernelspec": {
   "display_name": "rbc",
   "language": "python",
   "name": "rbc"
  },
  "language_info": {
   "codemirror_mode": {
    "name": "ipython",
    "version": 3
   },
   "file_extension": ".py",
   "mimetype": "text/x-python",
   "name": "python",
   "nbconvert_exporter": "python",
   "pygments_lexer": "ipython3",
   "version": "3.7.3"
  }
 },
 "nbformat": 4,
 "nbformat_minor": 2
}
