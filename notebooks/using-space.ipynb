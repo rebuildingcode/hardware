{
 "cells": [
  {
   "cell_type": "code",
   "execution_count": 1,
   "metadata": {
    "scrolled": true
   },
   "outputs": [
    {
     "name": "stdout",
     "output_type": "stream",
     "text": [
      "/Users/nguyen/rebuildingcode/rbc\n"
     ]
    }
   ],
   "source": [
    "cd .."
   ]
  },
  {
   "cell_type": "code",
   "execution_count": 2,
   "metadata": {},
   "outputs": [],
   "source": [
    "# set logging level to include INFO\n",
    "import logging\n",
    "logging.basicConfig(level=20)"
   ]
  },
  {
   "cell_type": "code",
   "execution_count": 3,
   "metadata": {},
   "outputs": [],
   "source": [
    "from copy import deepcopy\n",
    "\n",
    "from rbc.point import Point\n",
    "from rbc.space import Space\n",
    "from rbc.room import Room\n",
    "from shapely.geometry import Polygon"
   ]
  },
  {
   "cell_type": "code",
   "execution_count": 4,
   "metadata": {},
   "outputs": [],
   "source": [
    "# dimensions of ADU\n",
    "\n",
    "b1 = Point(0, 0, 0)\n",
    "b2 = Point(0, 15, 0)\n",
    "b3 = Point(30, 15, 0)\n",
    "b4 = Point(30, 0, 0)"
   ]
  },
  {
   "cell_type": "code",
   "execution_count": 5,
   "metadata": {},
   "outputs": [],
   "source": [
    "adu = Space(points=[b1, b2, b3, b4], name=\"My ADU\")"
   ]
  },
  {
   "cell_type": "code",
   "execution_count": 6,
   "metadata": {},
   "outputs": [
    {
     "data": {
      "image/svg+xml": [
       "<svg xmlns=\"http://www.w3.org/2000/svg\" xmlns:xlink=\"http://www.w3.org/1999/xlink\" width=\"100.0\" height=\"100.0\" viewBox=\"-1.2 -1.2 32.4 17.4\" preserveAspectRatio=\"xMinYMin meet\"><g transform=\"matrix(1,0,0,-1,0,15.0)\"><path fill-rule=\"evenodd\" fill=\"#66cc99\" stroke=\"#555555\" stroke-width=\"0.648\" opacity=\"0.6\" d=\"M 0.0,0.0 L 0.0,15.0 L 30.0,15.0 L 30.0,0.0 L 0.0,0.0 z\" /></g></svg>"
      ],
      "text/plain": [
       "Space: My ADU, AREA: 450.0"
      ]
     },
     "execution_count": 6,
     "metadata": {},
     "output_type": "execute_result"
    }
   ],
   "source": [
    "adu"
   ]
  },
  {
   "cell_type": "code",
   "execution_count": 7,
   "metadata": {},
   "outputs": [
    {
     "data": {
      "text/plain": [
       "450.0"
      ]
     },
     "execution_count": 7,
     "metadata": {},
     "output_type": "execute_result"
    }
   ],
   "source": [
    "adu.area"
   ]
  },
  {
   "cell_type": "code",
   "execution_count": 8,
   "metadata": {},
   "outputs": [],
   "source": [
    "r1 = Point(0, 0, 0)\n",
    "r2 = Point(0, 8, 0)\n",
    "r3 = Point(8, 8, 0)\n",
    "r4 = Point(8, 0, 0)"
   ]
  },
  {
   "cell_type": "code",
   "execution_count": 9,
   "metadata": {},
   "outputs": [],
   "source": [
    "bedroom = Room(points=[r1, r2, r3, r4], room_type='bedroom', name='bedroom')"
   ]
  },
  {
   "cell_type": "code",
   "execution_count": 10,
   "metadata": {},
   "outputs": [
    {
     "data": {
      "image/svg+xml": [
       "<svg xmlns=\"http://www.w3.org/2000/svg\" xmlns:xlink=\"http://www.w3.org/1999/xlink\" width=\"100.0\" height=\"100.0\" viewBox=\"-0.32 -0.32 8.64 8.64\" preserveAspectRatio=\"xMinYMin meet\"><g transform=\"matrix(1,0,0,-1,0,8.0)\"><path fill-rule=\"evenodd\" fill=\"#66cc99\" stroke=\"#555555\" stroke-width=\"0.1728\" opacity=\"0.6\" d=\"M 0.0,0.0 L 0.0,8.0 L 8.0,8.0 L 8.0,0.0 L 0.0,0.0 z\" /></g></svg>"
      ],
      "text/plain": [
       "Space: bedroom, AREA: 64.0"
      ]
     },
     "execution_count": 10,
     "metadata": {},
     "output_type": "execute_result"
    }
   ],
   "source": [
    "bedroom"
   ]
  },
  {
   "cell_type": "code",
   "execution_count": 11,
   "metadata": {},
   "outputs": [
    {
     "data": {
      "text/plain": [
       "[(0.0, 0.0), (0.0, 8.0), (8.0, 8.0), (8.0, 0.0)]"
      ]
     },
     "execution_count": 11,
     "metadata": {},
     "output_type": "execute_result"
    }
   ],
   "source": [
    "bedroom.exterior.coords[:-1]"
   ]
  },
  {
   "cell_type": "code",
   "execution_count": 12,
   "metadata": {},
   "outputs": [
    {
     "data": {
      "text/plain": [
       "[(0.0, 0.0), (0.0, 8.0), (8.0, 8.0), (8.0, 0.0), (0.0, 0.0)]"
      ]
     },
     "execution_count": 12,
     "metadata": {},
     "output_type": "execute_result"
    }
   ],
   "source": [
    "list(bedroom.exterior.coords)"
   ]
  },
  {
   "cell_type": "code",
   "execution_count": 13,
   "metadata": {},
   "outputs": [],
   "source": [
    "ba1 = Point(0, 0, 0)\n",
    "ba2 = Point(0, 5, 0)\n",
    "ba3 = Point(8, 5, 0)\n",
    "ba4 = Point(8, 0, 0)"
   ]
  },
  {
   "cell_type": "code",
   "execution_count": 14,
   "metadata": {},
   "outputs": [],
   "source": [
    "bathroom = Room(points=[ba1, ba2, ba3, ba4], room_type='bathroom', name='bathroom')"
   ]
  },
  {
   "cell_type": "code",
   "execution_count": 15,
   "metadata": {},
   "outputs": [
    {
     "data": {
      "image/svg+xml": [
       "<svg xmlns=\"http://www.w3.org/2000/svg\" xmlns:xlink=\"http://www.w3.org/1999/xlink\" width=\"100.0\" height=\"100.0\" viewBox=\"-0.32 -0.32 8.64 5.640000000000001\" preserveAspectRatio=\"xMinYMin meet\"><g transform=\"matrix(1,0,0,-1,0,5.0)\"><path fill-rule=\"evenodd\" fill=\"#66cc99\" stroke=\"#555555\" stroke-width=\"0.1728\" opacity=\"0.6\" d=\"M 0.0,0.0 L 0.0,5.0 L 8.0,5.0 L 8.0,0.0 L 0.0,0.0 z\" /></g></svg>"
      ],
      "text/plain": [
       "Space: bathroom, AREA: 40.0"
      ]
     },
     "execution_count": 15,
     "metadata": {},
     "output_type": "execute_result"
    }
   ],
   "source": [
    "bathroom"
   ]
  },
  {
   "cell_type": "code",
   "execution_count": 16,
   "metadata": {},
   "outputs": [],
   "source": [
    "mr1 = Point(0, 0, 0)\n",
    "mr2 = Point(0, 10, 0)\n",
    "mr3 = Point(10, 10, 0)\n",
    "mr4 = Point(10, 0, 0)"
   ]
  },
  {
   "cell_type": "code",
   "execution_count": 17,
   "metadata": {},
   "outputs": [],
   "source": [
    "master = Room(points=[mr1, mr2, mr3, mr4], room_type='master', name='master')"
   ]
  },
  {
   "cell_type": "code",
   "execution_count": 18,
   "metadata": {},
   "outputs": [],
   "source": [
    "master2 = Room(points=[mr1, mr2, mr3, mr4], room_type='master2', name='master2')"
   ]
  },
  {
   "cell_type": "code",
   "execution_count": 19,
   "metadata": {},
   "outputs": [],
   "source": [
    "p1 = Point(0, 0, 0)\n",
    "p2 = Point(0, 4, 0)\n",
    "p3 = Point(5, 4, 0)\n",
    "p4 = Point(5, 0, 0)\n",
    "\n",
    "poly_points = [p1, p2, p3, p4]\n",
    "\n",
    "poly = Polygon(shell = [(pt.x, pt.y) for pt in poly_points])"
   ]
  },
  {
   "cell_type": "code",
   "execution_count": 20,
   "metadata": {},
   "outputs": [
    {
     "data": {
      "image/svg+xml": [
       "<svg xmlns=\"http://www.w3.org/2000/svg\" xmlns:xlink=\"http://www.w3.org/1999/xlink\" width=\"100.0\" height=\"100.0\" viewBox=\"-0.2 -0.2 5.4 4.4\" preserveAspectRatio=\"xMinYMin meet\"><g transform=\"matrix(1,0,0,-1,0,4.0)\"><path fill-rule=\"evenodd\" fill=\"#66cc99\" stroke=\"#555555\" stroke-width=\"0.10800000000000001\" opacity=\"0.6\" d=\"M 0.0,0.0 L 0.0,4.0 L 5.0,4.0 L 5.0,0.0 L 0.0,0.0 z\" /></g></svg>"
      ],
      "text/plain": [
       "<shapely.geometry.polygon.Polygon at 0x1195151d0>"
      ]
     },
     "execution_count": 20,
     "metadata": {},
     "output_type": "execute_result"
    }
   ],
   "source": [
    "poly"
   ]
  },
  {
   "cell_type": "code",
   "execution_count": 21,
   "metadata": {},
   "outputs": [
    {
     "name": "stderr",
     "output_type": "stream",
     "text": [
      "INFO:root:Contents found: [Space: bedroom, AREA: 64.0, Space: bathroom, AREA: 40.0, Space: master, AREA: 100.0, Space: master2, AREA: 100.0, <shapely.geometry.polygon.Polygon object at 0x1195151d0>]\n",
      "INFO:root:Placing bedroom...\n",
      "INFO:root:old coords: (0.0, 0.0)\n",
      "INFO:root:new coords: (0.0, 0.0)\n",
      "INFO:root:translate: (0.0, 0.0)\n",
      "INFO:root:Placing bathroom...\n",
      "INFO:root:old coords: (0.0, 0.0)\n",
      "INFO:root:new coords: (22.0, 10.0)\n",
      "INFO:root:translate: (22.0, 10.0)\n",
      "INFO:root:Placing master...\n",
      "INFO:root:old coords: (0.0, 0.0)\n",
      "INFO:root:new coords: (20.0, 5.0)\n",
      "INFO:root:translate: (20.0, 5.0)\n",
      "INFO:root:Failed to place master. Retrying...\n",
      "INFO:root:old coords: (0.0, 0.0)\n",
      "INFO:root:new coords: (20.0, 0.0)\n",
      "INFO:root:translate: (20.0, 0.0)\n",
      "INFO:root:Placing master2...\n",
      "INFO:root:old coords: (0.0, 0.0)\n",
      "INFO:root:new coords: (0.0, 0.0)\n",
      "INFO:root:translate: (0.0, 0.0)\n",
      "INFO:root:Failed to place master2. Retrying...\n",
      "INFO:root:old coords: (0.0, 0.0)\n",
      "INFO:root:new coords: (20.0, 0.0)\n",
      "INFO:root:translate: (20.0, 0.0)\n",
      "INFO:root:Failed to place master2. Retrying...\n",
      "INFO:root:old coords: (0.0, 0.0)\n",
      "INFO:root:new coords: (0.0, 5.0)\n",
      "INFO:root:translate: (0.0, 5.0)\n",
      "INFO:root:Failed to place master2. Retrying...\n",
      "INFO:root:old coords: (0.0, 0.0)\n",
      "INFO:root:new coords: (0.0, 5.0)\n",
      "INFO:root:translate: (0.0, 5.0)\n",
      "INFO:root:Failed to place master2. Retrying...\n",
      "INFO:root:old coords: (0.0, 0.0)\n",
      "INFO:root:new coords: (20.0, 5.0)\n",
      "INFO:root:translate: (20.0, 5.0)\n",
      "INFO:root:Failed to place master2. Retrying...\n",
      "INFO:root:old coords: (0.0, 0.0)\n",
      "INFO:root:new coords: (20.0, 5.0)\n",
      "INFO:root:translate: (20.0, 5.0)\n",
      "INFO:root:Failed to place master2. Retrying...\n",
      "INFO:root:old coords: (0.0, 0.0)\n",
      "INFO:root:new coords: (20.0, 5.0)\n",
      "INFO:root:translate: (20.0, 5.0)\n",
      "INFO:root:Failed to place master2. Retrying...\n",
      "INFO:root:old coords: (0.0, 0.0)\n",
      "INFO:root:new coords: (20.0, 0.0)\n",
      "INFO:root:translate: (20.0, 0.0)\n",
      "INFO:root:Failed to place master2. Retrying...\n",
      "INFO:root:old coords: (0.0, 0.0)\n",
      "INFO:root:new coords: (3.0, 0.0)\n",
      "INFO:root:translate: (3.0, 0.0)\n",
      "INFO:root:Failed to place master2. Retrying...\n",
      "INFO:root:old coords: (0.0, 0.0)\n",
      "INFO:root:new coords: (20.0, 0.0)\n",
      "INFO:root:translate: (20.0, 0.0)\n",
      "INFO:root:Failed to place master2. Retrying...\n",
      "INFO:root:old coords: (0.0, 0.0)\n",
      "INFO:root:new coords: (12.0, 0.0)\n",
      "INFO:root:translate: (12.0, 0.0)\n",
      "INFO:root:Failed to place master2. Retrying...\n",
      "INFO:root:old coords: (0.0, 0.0)\n",
      "INFO:root:new coords: (11.0, 5.0)\n",
      "INFO:root:translate: (11.0, 5.0)\n",
      "INFO:root:Failed to place master2. Retrying...\n",
      "INFO:root:old coords: (0.0, 0.0)\n",
      "INFO:root:new coords: (0.0, 3.0)\n",
      "INFO:root:translate: (0.0, 3.0)\n",
      "INFO:root:Failed to place master2. Retrying...\n",
      "INFO:root:old coords: (0.0, 0.0)\n",
      "INFO:root:new coords: (1.0, 0.0)\n",
      "INFO:root:translate: (1.0, 0.0)\n",
      "INFO:root:Failed to place master2. Retrying...\n",
      "INFO:root:old coords: (0.0, 0.0)\n",
      "INFO:root:new coords: (20.0, 1.0)\n",
      "INFO:root:translate: (20.0, 1.0)\n",
      "INFO:root:Failed to place master2. Retrying...\n",
      "INFO:root:Reached max retries for master2. Skipping...\n",
      "INFO:root:Placing AREA: 20.0...\n",
      "INFO:root:Failed to place AREA: 20.0. Retrying...\n"
     ]
    }
   ],
   "source": [
    "adu = Space(points=[b1, b2, b3, b4], name=\"My ADU\", contents=[bedroom, bathroom, master, master2, poly])"
   ]
  },
  {
   "cell_type": "code",
   "execution_count": 22,
   "metadata": {
    "scrolled": false
   },
   "outputs": [
    {
     "data": {
      "image/png": "[encoded data removed]",
      "text/plain": [
       "<Figure size 864x864 with 1 Axes>"
      ]
     },
     "metadata": {
      "needs_background": "light"
     },
     "output_type": "display_data"
    }
   ],
   "source": [
    "adu.plot()"
   ]
  },
  {
   "cell_type": "code",
   "execution_count": 23,
   "metadata": {},
   "outputs": [],
   "source": [
    "clo1 = Point(0, 0, 0)\n",
    "clo2 = Point(0, 3, 0)\n",
    "clo3 = Point(3, 3, 0)\n",
    "clo4 = Point(3, 0, 0)\n",
    "\n",
    "closet = Space(points=[clo1, clo2, clo3, clo4], name=\"closet\")"
   ]
  },
  {
   "cell_type": "code",
   "execution_count": 24,
   "metadata": {},
   "outputs": [
    {
     "data": {
      "image/svg+xml": [
       "<svg xmlns=\"http://www.w3.org/2000/svg\" xmlns:xlink=\"http://www.w3.org/1999/xlink\" width=\"100.0\" height=\"100.0\" viewBox=\"-0.12 -0.12 3.24 3.24\" preserveAspectRatio=\"xMinYMin meet\"><g transform=\"matrix(1,0,0,-1,0,3.0)\"><path fill-rule=\"evenodd\" fill=\"#66cc99\" stroke=\"#555555\" stroke-width=\"0.06480000000000001\" opacity=\"0.6\" d=\"M 0.0,0.0 L 0.0,3.0 L 3.0,3.0 L 3.0,0.0 L 0.0,0.0 z\" /></g></svg>"
      ],
      "text/plain": [
       "Space: closet, AREA: 9.0"
      ]
     },
     "execution_count": 24,
     "metadata": {},
     "output_type": "execute_result"
    }
   ],
   "source": [
    "closet"
   ]
  },
  {
   "cell_type": "code",
   "execution_count": null,
   "metadata": {},
   "outputs": [],
   "source": []
  },
  {
   "cell_type": "code",
   "execution_count": 25,
   "metadata": {
    "scrolled": false
   },
   "outputs": [
    {
     "name": "stderr",
     "output_type": "stream",
     "text": [
      "INFO:root:Contents found: [Space: bedroom, AREA: 64.0, Space: bathroom, AREA: 40.0, Space: master, AREA: 100.0, Space: master2, AREA: 100.0, <shapely.geometry.polygon.Polygon object at 0x1195151d0>, Space: closet, AREA: 9.0]\n",
      "INFO:root:Placing bedroom...\n",
      "INFO:root:old coords: (0.0, 0.0)\n",
      "INFO:root:new coords: (22.0, 7.0)\n",
      "INFO:root:translate: (22.0, 7.0)\n",
      "INFO:root:Placing bathroom...\n",
      "INFO:root:old coords: (0.0, 0.0)\n",
      "INFO:root:new coords: (22.0, 0.0)\n",
      "INFO:root:translate: (22.0, 0.0)\n",
      "INFO:root:Placing master...\n",
      "INFO:root:old coords: (0.0, 0.0)\n",
      "INFO:root:new coords: (0.0, 0.0)\n",
      "INFO:root:translate: (0.0, 0.0)\n",
      "INFO:root:Placing master2...\n",
      "INFO:root:old coords: (0.0, 0.0)\n",
      "INFO:root:new coords: (0.0, 5.0)\n",
      "INFO:root:translate: (0.0, 5.0)\n",
      "INFO:root:Failed to place master2. Retrying...\n",
      "INFO:root:old coords: (0.0, 0.0)\n",
      "INFO:root:new coords: (20.0, 5.0)\n",
      "INFO:root:translate: (20.0, 5.0)\n",
      "INFO:root:Failed to place master2. Retrying...\n",
      "INFO:root:old coords: (0.0, 0.0)\n",
      "INFO:root:new coords: (20.0, 0.0)\n",
      "INFO:root:translate: (20.0, 0.0)\n",
      "INFO:root:Failed to place master2. Retrying...\n",
      "INFO:root:old coords: (0.0, 0.0)\n",
      "INFO:root:new coords: (0.0, 0.0)\n",
      "INFO:root:translate: (0.0, 0.0)\n",
      "INFO:root:Failed to place master2. Retrying...\n",
      "INFO:root:old coords: (0.0, 0.0)\n",
      "INFO:root:new coords: (0.0, 5.0)\n",
      "INFO:root:translate: (0.0, 5.0)\n",
      "INFO:root:Failed to place master2. Retrying...\n",
      "INFO:root:old coords: (0.0, 0.0)\n",
      "INFO:root:new coords: (0.0, 0.0)\n",
      "INFO:root:translate: (0.0, 0.0)\n",
      "INFO:root:Failed to place master2. Retrying...\n",
      "INFO:root:old coords: (0.0, 0.0)\n",
      "INFO:root:new coords: (0.0, 0.0)\n",
      "INFO:root:translate: (0.0, 0.0)\n",
      "INFO:root:Failed to place master2. Retrying...\n",
      "INFO:root:old coords: (0.0, 0.0)\n",
      "INFO:root:new coords: (14.0, 5.0)\n",
      "INFO:root:translate: (14.0, 5.0)\n",
      "INFO:root:Failed to place master2. Retrying...\n",
      "INFO:root:old coords: (0.0, 0.0)\n",
      "INFO:root:new coords: (3.0, 0.0)\n",
      "INFO:root:translate: (3.0, 0.0)\n",
      "INFO:root:Failed to place master2. Retrying...\n",
      "INFO:root:old coords: (0.0, 0.0)\n",
      "INFO:root:new coords: (20.0, 5.0)\n",
      "INFO:root:translate: (20.0, 5.0)\n",
      "INFO:root:Failed to place master2. Retrying...\n",
      "INFO:root:old coords: (0.0, 0.0)\n",
      "INFO:root:new coords: (2.0, 5.0)\n",
      "INFO:root:translate: (2.0, 5.0)\n",
      "INFO:root:Failed to place master2. Retrying...\n",
      "INFO:root:old coords: (0.0, 0.0)\n",
      "INFO:root:new coords: (0.0, 5.0)\n",
      "INFO:root:translate: (0.0, 5.0)\n",
      "INFO:root:Failed to place master2. Retrying...\n",
      "INFO:root:old coords: (0.0, 0.0)\n",
      "INFO:root:new coords: (20.0, 4.0)\n",
      "INFO:root:translate: (20.0, 4.0)\n",
      "INFO:root:Failed to place master2. Retrying...\n",
      "INFO:root:old coords: (0.0, 0.0)\n",
      "INFO:root:new coords: (7.0, 0.0)\n",
      "INFO:root:translate: (7.0, 0.0)\n",
      "INFO:root:Failed to place master2. Retrying...\n",
      "INFO:root:old coords: (0.0, 0.0)\n",
      "INFO:root:new coords: (4.0, 0.0)\n",
      "INFO:root:translate: (4.0, 0.0)\n",
      "INFO:root:Failed to place master2. Retrying...\n",
      "INFO:root:Reached max retries for master2. Skipping...\n",
      "INFO:root:Placing AREA: 20.0...\n",
      "INFO:root:Placing closet...\n",
      "INFO:root:old coords: (0.0, 0.0)\n",
      "INFO:root:new coords: (0.0, 12.0)\n",
      "INFO:root:translate: (0.0, 12.0)\n",
      "INFO:root:Failed to place closet. Retrying...\n",
      "INFO:root:old coords: (0.0, 0.0)\n",
      "INFO:root:new coords: (27.0, 0.0)\n",
      "INFO:root:translate: (27.0, 0.0)\n",
      "INFO:root:Failed to place closet. Retrying...\n",
      "INFO:root:old coords: (0.0, 0.0)\n",
      "INFO:root:new coords: (27.0, 12.0)\n",
      "INFO:root:translate: (27.0, 12.0)\n",
      "INFO:root:Failed to place closet. Retrying...\n",
      "INFO:root:old coords: (0.0, 0.0)\n",
      "INFO:root:new coords: (27.0, 0.0)\n",
      "INFO:root:translate: (27.0, 0.0)\n",
      "INFO:root:Failed to place closet. Retrying...\n",
      "INFO:root:old coords: (0.0, 0.0)\n",
      "INFO:root:new coords: (0.0, 0.0)\n",
      "INFO:root:translate: (0.0, 0.0)\n",
      "INFO:root:Failed to place closet. Retrying...\n",
      "INFO:root:old coords: (0.0, 0.0)\n",
      "INFO:root:new coords: (0.0, 12.0)\n",
      "INFO:root:translate: (0.0, 12.0)\n",
      "INFO:root:Failed to place closet. Retrying...\n",
      "INFO:root:old coords: (0.0, 0.0)\n",
      "INFO:root:new coords: (27.0, 0.0)\n",
      "INFO:root:translate: (27.0, 0.0)\n",
      "INFO:root:Failed to place closet. Retrying...\n",
      "INFO:root:old coords: (0.0, 0.0)\n",
      "INFO:root:new coords: (27.0, 7.0)\n",
      "INFO:root:translate: (27.0, 7.0)\n",
      "INFO:root:Failed to place closet. Retrying...\n",
      "INFO:root:old coords: (0.0, 0.0)\n",
      "INFO:root:new coords: (27.0, 8.0)\n",
      "INFO:root:translate: (27.0, 8.0)\n",
      "INFO:root:Failed to place closet. Retrying...\n",
      "INFO:root:old coords: (0.0, 0.0)\n",
      "INFO:root:new coords: (0.0, 6.0)\n",
      "INFO:root:translate: (0.0, 6.0)\n",
      "INFO:root:Failed to place closet. Retrying...\n",
      "INFO:root:old coords: (0.0, 0.0)\n",
      "INFO:root:new coords: (16.0, 12.0)\n",
      "INFO:root:translate: (16.0, 12.0)\n"
     ]
    }
   ],
   "source": [
    "adu = Space(points=[b1, b2, b3, b4], name=\"My ADU\", contents=[bedroom, bathroom, master, master2, poly, closet])"
   ]
  },
  {
   "cell_type": "code",
   "execution_count": 26,
   "metadata": {
    "scrolled": true
   },
   "outputs": [
    {
     "data": {
      "image/png": "[encoded data removed]",
      "text/plain": [
       "<Figure size 864x864 with 1 Axes>"
      ]
     },
     "metadata": {
      "needs_background": "light"
     },
     "output_type": "display_data"
    }
   ],
   "source": [
    "adu.plot()"
   ]
  },
  {
   "cell_type": "code",
   "execution_count": 27,
   "metadata": {},
   "outputs": [
    {
     "data": {
      "text/plain": [
       "{'bedroom': Space: bedroom, AREA: 64.0,\n",
       " 'bathroom': Space: bathroom, AREA: 40.0,\n",
       " 'master': Space: master, AREA: 100.0,\n",
       " 'AREA: 20.0': <shapely.geometry.polygon.Polygon at 0x11b9484e0>,\n",
       " 'closet': Space: closet, AREA: 9.0}"
      ]
     },
     "execution_count": 27,
     "metadata": {},
     "output_type": "execute_result"
    }
   ],
   "source": [
    "adu.plan"
   ]
  },
  {
   "cell_type": "code",
   "execution_count": 28,
   "metadata": {},
   "outputs": [
    {
     "data": {
      "text/plain": [
       "dict_values([Space: bedroom, AREA: 64.0, Space: bathroom, AREA: 40.0, Space: master, AREA: 100.0, <shapely.geometry.polygon.Polygon object at 0x11b9484e0>, Space: closet, AREA: 9.0])"
      ]
     },
     "execution_count": 28,
     "metadata": {},
     "output_type": "execute_result"
    }
   ],
   "source": [
    "adu.plan.values()"
   ]
  },
  {
   "cell_type": "code",
   "execution_count": 29,
   "metadata": {},
   "outputs": [
    {
     "data": {
      "text/plain": [
       "False"
      ]
     },
     "execution_count": 29,
     "metadata": {},
     "output_type": "execute_result"
    }
   ],
   "source": [
    "adu.plan['bedroom'].within(adu.plan['master'])"
   ]
  },
  {
   "cell_type": "code",
   "execution_count": 30,
   "metadata": {},
   "outputs": [
    {
     "name": "stdout",
     "output_type": "stream",
     "text": [
      "False\n",
      "False\n",
      "False\n",
      "False\n",
      "False\n"
     ]
    }
   ],
   "source": [
    "for thing in adu.plan.values():\n",
    "    print(thing.overlaps(bedroom))"
   ]
  },
  {
   "cell_type": "code",
   "execution_count": 31,
   "metadata": {},
   "outputs": [],
   "source": [
    "empty_dict = {}\n",
    "\n",
    "for thing in empty_dict.values():\n",
    "    print('something')"
   ]
  },
  {
   "cell_type": "code",
   "execution_count": 32,
   "metadata": {},
   "outputs": [
    {
     "data": {
      "text/plain": [
       "(26.0, 11.0)"
      ]
     },
     "execution_count": 32,
     "metadata": {},
     "output_type": "execute_result"
    }
   ],
   "source": [
    "adu.plan['bedroom'].centroid.x, adu.plan['bedroom'].centroid.y"
   ]
  },
  {
   "cell_type": "code",
   "execution_count": 33,
   "metadata": {},
   "outputs": [
    {
     "data": {
      "text/plain": [
       "0"
      ]
     },
     "execution_count": 33,
     "metadata": {},
     "output_type": "execute_result"
    }
   ],
   "source": [
    "len(empty_dict)"
   ]
  },
  {
   "cell_type": "code",
   "execution_count": 34,
   "metadata": {},
   "outputs": [
    {
     "data": {
      "text/plain": [
       "(0.0, 0.0, 30.0, 15.0)"
      ]
     },
     "execution_count": 34,
     "metadata": {},
     "output_type": "execute_result"
    }
   ],
   "source": [
    "adu.bounds"
   ]
  },
  {
   "cell_type": "code",
   "execution_count": 35,
   "metadata": {},
   "outputs": [
    {
     "data": {
      "text/plain": [
       "(0.0, 0.0, 8.0, 8.0)"
      ]
     },
     "execution_count": 35,
     "metadata": {},
     "output_type": "execute_result"
    }
   ],
   "source": [
    "bedroom.bounds"
   ]
  },
  {
   "cell_type": "code",
   "execution_count": 36,
   "metadata": {},
   "outputs": [],
   "source": [
    "b_x_min, b_y_min, b_x_max, b_y_max = adu.bounds\n",
    "c_x_min, c_y_min, c_x_max, c_y_max = bedroom.bounds\n",
    "x_min = b_x_min + c_x_min\n",
    "x_max = b_x_max - c_x_max\n",
    "y_min = b_y_min + c_y_min\n",
    "y_max = b_y_max - c_y_max"
   ]
  },
  {
   "cell_type": "code",
   "execution_count": 37,
   "metadata": {},
   "outputs": [
    {
     "data": {
      "text/plain": [
       "(0.0, 22.0, 0.0, 7.0)"
      ]
     },
     "execution_count": 37,
     "metadata": {},
     "output_type": "execute_result"
    }
   ],
   "source": [
    "x_min, x_max, y_min, y_max"
   ]
  },
  {
   "cell_type": "code",
   "execution_count": 38,
   "metadata": {},
   "outputs": [
    {
     "data": {
      "text/plain": [
       "False"
      ]
     },
     "execution_count": 38,
     "metadata": {},
     "output_type": "execute_result"
    }
   ],
   "source": [
    "adu.plan['bathroom'].overlaps(adu.plan['bedroom'])"
   ]
  },
  {
   "cell_type": "code",
   "execution_count": 39,
   "metadata": {},
   "outputs": [
    {
     "data": {
      "text/plain": [
       "{'bedroom': Space: bedroom, AREA: 64.0,\n",
       " 'bathroom': Space: bathroom, AREA: 40.0,\n",
       " 'master': Space: master, AREA: 100.0,\n",
       " 'AREA: 20.0': <shapely.geometry.polygon.Polygon at 0x11b9484e0>,\n",
       " 'closet': Space: closet, AREA: 9.0}"
      ]
     },
     "execution_count": 39,
     "metadata": {},
     "output_type": "execute_result"
    }
   ],
   "source": [
    "adu.plan"
   ]
  },
  {
   "cell_type": "code",
   "execution_count": 40,
   "metadata": {},
   "outputs": [],
   "source": [
    "sub_room = adu.plan['bedroom']"
   ]
  },
  {
   "cell_type": "code",
   "execution_count": 41,
   "metadata": {},
   "outputs": [],
   "source": [
    "_polygon_ = sub_room.__class__"
   ]
  },
  {
   "cell_type": "code",
   "execution_count": 42,
   "metadata": {},
   "outputs": [
    {
     "data": {
      "text/plain": [
       "rbc.room.room.Room"
      ]
     },
     "execution_count": 42,
     "metadata": {},
     "output_type": "execute_result"
    }
   ],
   "source": [
    "_polygon_"
   ]
  },
  {
   "cell_type": "code",
   "execution_count": 43,
   "metadata": {},
   "outputs": [
    {
     "data": {
      "text/plain": [
       "\"<class 'rbc.room.room.Room'>\""
      ]
     },
     "execution_count": 43,
     "metadata": {},
     "output_type": "execute_result"
    }
   ],
   "source": [
    "str(_polygon_)"
   ]
  },
  {
   "cell_type": "code",
   "execution_count": 44,
   "metadata": {},
   "outputs": [],
   "source": [
    "p1 = Point(0, 0, 0)\n",
    "p2 = Point(0, 3, 0)\n",
    "p3 = Point(1, 3, 0)\n",
    "p4 = Point(1, 0, 0)\n",
    "\n",
    "poly_points = [p1, p2, p3, p4]\n",
    "\n",
    "poly = _polygon_(points=poly_points)"
   ]
  },
  {
   "cell_type": "code",
   "execution_count": 45,
   "metadata": {},
   "outputs": [
    {
     "data": {
      "image/svg+xml": [
       "<svg xmlns=\"http://www.w3.org/2000/svg\" xmlns:xlink=\"http://www.w3.org/1999/xlink\" width=\"100.0\" height=\"100.0\" viewBox=\"-0.12 -0.12 1.2400000000000002 3.24\" preserveAspectRatio=\"xMinYMin meet\"><g transform=\"matrix(1,0,0,-1,0,3.0)\"><path fill-rule=\"evenodd\" fill=\"#66cc99\" stroke=\"#555555\" stroke-width=\"0.06480000000000001\" opacity=\"0.6\" d=\"M 0.0,0.0 L 0.0,3.0 L 1.0,3.0 L 1.0,0.0 L 0.0,0.0 z\" /></g></svg>"
      ],
      "text/plain": [
       "Space: None, AREA: 3.0"
      ]
     },
     "execution_count": 45,
     "metadata": {},
     "output_type": "execute_result"
    }
   ],
   "source": [
    "poly"
   ]
  },
  {
   "cell_type": "code",
   "execution_count": null,
   "metadata": {},
   "outputs": [],
   "source": []
  }
 ],
 "metadata": {
  "kernelspec": {
   "display_name": "rbc",
   "language": "python",
   "name": "rbc"
  },
  "language_info": {
   "codemirror_mode": {
    "name": "ipython",
    "version": 3
   },
   "file_extension": ".py",
   "mimetype": "text/x-python",
   "name": "python",
   "nbconvert_exporter": "python",
   "pygments_lexer": "ipython3",
   "version": "3.7.2"
  }
 },
 "nbformat": 4,
 "nbformat_minor": 2
}
